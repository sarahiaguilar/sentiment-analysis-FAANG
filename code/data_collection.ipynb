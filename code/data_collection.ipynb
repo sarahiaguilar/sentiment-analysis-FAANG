{
  "nbformat": 4,
  "nbformat_minor": 0,
  "metadata": {
    "colab": {
      "name": "data_collection.ipynb",
      "provenance": []
    },
    "kernelspec": {
      "name": "python3",
      "display_name": "Python 3"
    }
  },
  "cells": [
    {
      "cell_type": "code",
      "metadata": {
        "id": "vViATRbS8_VF",
        "colab_type": "code",
        "colab": {
          "base_uri": "https://localhost:8080/",
          "height": 173
        },
        "outputId": "647e1cc9-9681-490f-98a8-5579ff269f45"
      },
      "source": [
        "!pip install GetOldTweets3"
      ],
      "execution_count": 5,
      "outputs": [
        {
          "output_type": "stream",
          "text": [
            "Collecting GetOldTweets3\n",
            "  Downloading https://files.pythonhosted.org/packages/ed/f4/a00c2a7c90801abc875325bb5416ce9090ac86d06a00cc887131bd73ba45/GetOldTweets3-0.0.11-py3-none-any.whl\n",
            "Collecting pyquery>=1.2.10\n",
            "  Downloading https://files.pythonhosted.org/packages/78/43/95d42e386c61cb639d1a0b94f0c0b9f0b7d6b981ad3c043a836c8b5bc68b/pyquery-1.4.1-py2.py3-none-any.whl\n",
            "Requirement already satisfied: lxml>=3.5.0 in /usr/local/lib/python3.6/dist-packages (from GetOldTweets3) (4.2.6)\n",
            "Collecting cssselect>0.7.9\n",
            "  Downloading https://files.pythonhosted.org/packages/3b/d4/3b5c17f00cce85b9a1e6f91096e1cc8e8ede2e1be8e96b87ce1ed09e92c5/cssselect-1.1.0-py2.py3-none-any.whl\n",
            "Installing collected packages: cssselect, pyquery, GetOldTweets3\n",
            "Successfully installed GetOldTweets3-0.0.11 cssselect-1.1.0 pyquery-1.4.1\n"
          ],
          "name": "stdout"
        }
      ]
    },
    {
      "cell_type": "code",
      "metadata": {
        "id": "l38RPpur9JA9",
        "colab_type": "code",
        "colab": {}
      },
      "source": [
        "import GetOldTweets3 as got\n",
        "import pandas as pd"
      ],
      "execution_count": 6,
      "outputs": []
    },
    {
      "cell_type": "code",
      "metadata": {
        "id": "p_tIi4J69JIC",
        "colab_type": "code",
        "colab": {}
      },
      "source": [
        "def get_tweets (query, start_date, end_date, max_tweets):\n",
        "  tweetCriteria = got.manager.TweetCriteria().setQuerySearch(query)\\\n",
        "                                             .setSince(start_date)\\\n",
        "                                             .setUntil(end_date)\\\n",
        "                                             .setMaxTweets(max_tweets)\\\n",
        "                                             .setLang(\"en\")\\\n",
        "                                             .setEmoji(\"unicode\")\n",
        "  tweets_list = got.manager.TweetManager.getTweets(tweetCriteria)\n",
        "  tweets_text = [[tw.id, tw.author_id, tw.username, tw.text, tw.geo, tw.date, tw.retweets, tw.favorites, tw.mentions, tw.hashtags, start_date] for tw in tweets_list]\n",
        "  tweets_df = pd.DataFrame(tweets_text, columns = ['Id', 'Author_id', 'User', 'Text', 'Geo', 'Date','Retweets', 'Favorites', 'Mentions', 'HashTags', 'QueryDate'])\n",
        "  return tweets_df"
      ],
      "execution_count": 7,
      "outputs": []
    },
    {
      "cell_type": "code",
      "metadata": {
        "id": "BaTpeL5q9JLP",
        "colab_type": "code",
        "colab": {
          "base_uri": "https://localhost:8080/",
          "height": 34
        },
        "outputId": "61619c04-1704-4734-be61-24e2f7acd6c6"
      },
      "source": [
        "tickers = [\"$FB\", \"NFLX\", \"GOOG\", \"GOOGL\", \"AXP\", \"AAPL\", \"BA\", \"CAT\", \"CSCO\", \"CVX\", \"XOM\", \"GS\", \"HD\", \"IBM\", \"INTC\", \"JNJ\", \"KO\", \"JPM\", \"MCD\", \"MMM\", \"MRK\", \"MSFT\", \"NKE\", \"PFE\", \"PG\", \"TRV\", \"UNH\", \"RTX\", \"VZ\", \"V\", \"WBA\", \"WMT\", \"DIS\", \"DOW\", \"SPY\", \"GLD\", \"DIA\", \"ETH\", \"BTC\", \"GLD\"]\n",
        "query_tickers = \" OR $\".join(tickers[0:5])\n",
        "print(query_tickers)"
      ],
      "execution_count": 9,
      "outputs": [
        {
          "output_type": "stream",
          "text": [
            "$FB OR $NFLX OR $GOOG OR $GOOGL OR $AXP\n"
          ],
          "name": "stdout"
        }
      ]
    },
    {
      "cell_type": "code",
      "metadata": {
        "id": "Dv_sPXg4_uLs",
        "colab_type": "code",
        "colab": {}
      },
      "source": [
        "from datetime import date, timedelta, datetime\n",
        "import time"
      ],
      "execution_count": 11,
      "outputs": []
    },
    {
      "cell_type": "code",
      "metadata": {
        "id": "pBznh2Kv_Qze",
        "colab_type": "code",
        "colab": {
          "base_uri": "https://localhost:8080/",
          "height": 52
        },
        "outputId": "d6b80034-0368-4fe3-9972-81837da53d58"
      },
      "source": [
        "df = pd.DataFrame(columns = ['Id', 'Author_id', 'User', 'Text', 'Geo', 'Date','Retweets', 'Favorites', 'Mentions', 'HashTags', 'QueryDate'])\n",
        "start_date = datetime(2020, 9, 15)\n",
        "end_date = datetime(2020, 9, 16)\n",
        "delta = timedelta(days = 1)\n",
        "d = start_date\n",
        "weekend = set([5, 6])\n",
        "total_retrieved_days = 0\n",
        "while d <= end_date:\n",
        "  if d.weekday() not in weekend:\n",
        "    query_start_date = datetime.strftime(d, '%Y-%m-%d')\n",
        "    query_end_date = datetime.strftime(d + timedelta(days = 1), '%Y-%m-%d')\n",
        "    try:\n",
        "      query_df = get_tweets(query_tickers, query_start_date, query_end_date, 200)\n",
        "      df = pd.concat([df, query_df], ignore_index = True)\n",
        "      print(f'Retrieved at {query_start_date} :)')\n",
        "      total_retrieved_days += 1\n",
        "    except:\n",
        "      print(f'Cannot retrieve at {query_start_date}.')\n",
        "      time.sleep(600)\n",
        "  d += delta"
      ],
      "execution_count": 13,
      "outputs": [
        {
          "output_type": "stream",
          "text": [
            "Retrieved at 2020-09-15 :)\n",
            "Retrieved at 2020-09-16 :)\n"
          ],
          "name": "stdout"
        }
      ]
    },
    {
      "cell_type": "code",
      "metadata": {
        "id": "NR767Ky3QB1t",
        "colab_type": "code",
        "colab": {}
      },
      "source": [
        "df.to_csv(\"validation_data.csv\")"
      ],
      "execution_count": 14,
      "outputs": []
    }
  ]
}