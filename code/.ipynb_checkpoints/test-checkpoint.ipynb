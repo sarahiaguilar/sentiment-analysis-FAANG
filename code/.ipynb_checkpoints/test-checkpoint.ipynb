{
 "cells": [
  {
   "cell_type": "code",
   "execution_count": 28,
   "metadata": {},
   "outputs": [
    {
     "name": "stdout",
     "output_type": "stream",
     "text": [
      "                                                Text  Sentiment\n",
      "0  tsla msft spy amzn music enteainment musicvide...          1\n",
      "1  richest mine ever discovered deadliest planet ...          1\n",
      "2                                                buy          1\n",
      "3  making new low conman cramer business news ent...          0\n",
      "4                      boycott also planned tomorrow          0\n",
      "209\n"
     ]
    }
   ],
   "source": [
    "from SentimentAnalyzer import *\n",
    "\n",
    "input_encoder_path = '../model/input_encoder.pkl'\n",
    "classifier_path = '../model/sentiment_classifier.pkl'\n",
    "\n",
    "my_sentiment_analyzer = SentimentAnalyzer() # input_encoder_path, classifier_path\n",
    "df = pd.read_csv('../data/validation_data.csv')\n",
    "sentimented_df = my_sentiment_analyzer.analyze(test_df, 'Text')\n",
    "print(sentimented_df.head())\n",
    "print(sum(sentimented_df.Sentiment))"
   ]
  }
 ],
 "metadata": {
  "kernelspec": {
   "display_name": "Python 3",
   "language": "python",
   "name": "python3"
  },
  "language_info": {
   "codemirror_mode": {
    "name": "ipython",
    "version": 3
   },
   "file_extension": ".py",
   "mimetype": "text/x-python",
   "name": "python",
   "nbconvert_exporter": "python",
   "pygments_lexer": "ipython3",
   "version": "3.8.3"
  }
 },
 "nbformat": 4,
 "nbformat_minor": 4
}
