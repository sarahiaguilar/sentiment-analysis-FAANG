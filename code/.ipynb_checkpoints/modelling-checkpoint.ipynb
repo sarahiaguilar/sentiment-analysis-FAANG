{
 "cells": [
  {
   "cell_type": "markdown",
   "metadata": {
    "colab_type": "text",
    "id": "28NDEa4FGuzB"
   },
   "source": [
    "## Load data and split train and test set"
   ]
  },
  {
   "cell_type": "code",
   "execution_count": 57,
   "metadata": {
    "colab": {
     "base_uri": "https://localhost:8080/",
     "height": 52
    },
    "colab_type": "code",
    "id": "ylWK-tRk60PW",
    "outputId": "9f898355-6a75-4307-c180-6851982d0447"
   },
   "outputs": [
    {
     "name": "stdout",
     "output_type": "stream",
     "text": [
      "[nltk_data] Downloading package punkt to /root/nltk_data...\n",
      "[nltk_data]   Package punkt is already up-to-date!\n"
     ]
    }
   ],
   "source": [
    "import pandas as pd"
   ]
  },
  {
   "cell_type": "code",
   "execution_count": 24,
   "metadata": {
    "colab": {
     "base_uri": "https://localhost:8080/",
     "height": 34
    },
    "colab_type": "code",
    "id": "nZdgOY6e7AcG",
    "outputId": "d9936b1d-7bb2-4181-c493-662c37f9c379"
   },
   "outputs": [
    {
     "data": {
      "text/plain": [
       "(15863, 2)"
      ]
     },
     "execution_count": 24,
     "metadata": {
      "tags": []
     },
     "output_type": "execute_result"
    }
   ],
   "source": [
    "df = pd.read_csv('./clean_data.csv')\n",
    "df.shape"
   ]
  },
  {
   "cell_type": "code",
   "execution_count": 25,
   "metadata": {
    "colab": {
     "base_uri": "https://localhost:8080/",
     "height": 52
    },
    "colab_type": "code",
    "id": "grz29iAE7AfB",
    "outputId": "1f035354-224f-47fa-d6db-c0cb7ec6ecab"
   },
   "outputs": [
    {
     "name": "stdout",
     "output_type": "stream",
     "text": [
      "(12690, 2)\n",
      "(3173, 2)\n"
     ]
    }
   ],
   "source": [
    "train, test = train_test_split(df, test_size = 0.2)\n",
    "print(train.shape)\n",
    "print(test.shape)"
   ]
  },
  {
   "cell_type": "markdown",
   "metadata": {
    "colab_type": "text",
    "id": "pGefXqC4G2oS"
   },
   "source": [
    "## Transform input"
   ]
  },
  {
   "cell_type": "code",
   "execution_count": null,
   "metadata": {
    "colab": {},
    "colab_type": "code",
    "id": "wtA2lvcwJyX6"
   },
   "outputs": [],
   "source": [
    "from sklearn.model_selection import train_test_split\n",
    "from collections import Counter\n",
    "import nltk\n",
    "nltk.download('punkt')\n",
    "from sklearn.feature_extraction import DictVectorizer\n",
    "from sklearn.preprocessing import LabelEncoder"
   ]
  },
  {
   "cell_type": "code",
   "execution_count": 47,
   "metadata": {
    "colab": {},
    "colab_type": "code",
    "id": "pWF6o4md7AiC"
   },
   "outputs": [],
   "source": [
    "BOW_train = []\n",
    "\n",
    "for text in train['Text']:\n",
    "  tokens = nltk.word_tokenize(text)\n",
    "  BOW_train.append(Counter(tokens))"
   ]
  },
  {
   "cell_type": "code",
   "execution_count": 48,
   "metadata": {
    "colab": {},
    "colab_type": "code",
    "id": "h8vGYCvPBYIm"
   },
   "outputs": [],
   "source": [
    "input_encoder = DictVectorizer()\n",
    "X = input_encoder.fit_transform(BOW_train)"
   ]
  },
  {
   "cell_type": "code",
   "execution_count": 49,
   "metadata": {
    "colab": {},
    "colab_type": "code",
    "id": "VNnWItbJA6Kl"
   },
   "outputs": [],
   "source": [
    "output_encoder = LabelEncoder()\n",
    "y = output_encoder.fit_transform(train['Sentiment'])"
   ]
  },
  {
   "cell_type": "code",
   "execution_count": 51,
   "metadata": {
    "colab": {},
    "colab_type": "code",
    "id": "Y0qbSLgOB7Bc"
   },
   "outputs": [],
   "source": [
    "BOW_test = []\n",
    "\n",
    "for text in test['Text']:\n",
    "  tokens = nltk.word_tokenize(text)\n",
    "  BOW_test.append(Counter(tokens))"
   ]
  },
  {
   "cell_type": "code",
   "execution_count": 54,
   "metadata": {
    "colab": {},
    "colab_type": "code",
    "id": "qzguxzbdCOhG"
   },
   "outputs": [],
   "source": [
    "X_test = input_encoder.transform(BOW_test)"
   ]
  },
  {
   "cell_type": "code",
   "execution_count": 55,
   "metadata": {
    "colab": {},
    "colab_type": "code",
    "id": "eJ-pG5GCCOS2"
   },
   "outputs": [],
   "source": [
    "y_test = output_encoder.transform(test['Sentiment'])"
   ]
  },
  {
   "cell_type": "markdown",
   "metadata": {
    "colab_type": "text",
    "id": "B72wfXOaHAGe"
   },
   "source": [
    "## Build multinomial NB model"
   ]
  },
  {
   "cell_type": "code",
   "execution_count": null,
   "metadata": {
    "colab": {},
    "colab_type": "code",
    "id": "COTrZNsvJ1FQ"
   },
   "outputs": [],
   "source": [
    "from sklearn.naive_bayes import MultinomialNB"
   ]
  },
  {
   "cell_type": "code",
   "execution_count": 50,
   "metadata": {
    "colab": {
     "base_uri": "https://localhost:8080/",
     "height": 34
    },
    "colab_type": "code",
    "id": "OXb94hifBlCH",
    "outputId": "725f95ab-6c10-4e7e-e4cf-c26bc25350bc"
   },
   "outputs": [
    {
     "data": {
      "text/plain": [
       "MultinomialNB(alpha=1.0, class_prior=None, fit_prior=True)"
      ]
     },
     "execution_count": 50,
     "metadata": {
      "tags": []
     },
     "output_type": "execute_result"
    }
   ],
   "source": [
    "classifier = MultinomialNB()\n",
    "classifier.fit(X, y) "
   ]
  },
  {
   "cell_type": "markdown",
   "metadata": {
    "colab_type": "text",
    "id": "1BdY_3DuHHTM"
   },
   "source": [
    "## Test!"
   ]
  },
  {
   "cell_type": "code",
   "execution_count": null,
   "metadata": {
    "colab": {},
    "colab_type": "code",
    "id": "cPQwIoYtJ3Xr"
   },
   "outputs": [],
   "source": [
    "from sklearn.metrics import accuracy_score, precision_score, recall_score, f1_score"
   ]
  },
  {
   "cell_type": "code",
   "execution_count": 56,
   "metadata": {
    "colab": {},
    "colab_type": "code",
    "id": "A2SWbKwhCeKI"
   },
   "outputs": [],
   "source": [
    "y_pred = classifier.predict(X_test)"
   ]
  },
  {
   "cell_type": "code",
   "execution_count": 59,
   "metadata": {
    "colab": {
     "base_uri": "https://localhost:8080/",
     "height": 86
    },
    "colab_type": "code",
    "id": "g0ji9XHsGeBG",
    "outputId": "602dfeb2-6a27-43f7-ea59-15374293e673"
   },
   "outputs": [
    {
     "name": "stdout",
     "output_type": "stream",
     "text": [
      "Exactitud: 0.7607942010715412\n",
      "Precision: 0.7655589794260738\n",
      "Exhaustividad: 0.7535353535353535\n",
      "F1 score: 0.7551439896173138\n"
     ]
    }
   ],
   "source": [
    "print(\"Exactitud:\", accuracy_score(y_test, y_pred))\n",
    "print(\"Precision:\", precision_score(y_test, y_pred, average = \"macro\"))\n",
    "print(\"Exhaustividad:\", recall_score(y_test, y_pred, average = \"macro\"))\n",
    "print(\"F1 score:\", f1_score(y_test, y_pred, average = \"macro\"))"
   ]
  },
  {
   "cell_type": "markdown",
   "metadata": {
    "colab_type": "text",
    "id": "V-ex5eeXH0aI"
   },
   "source": [
    "## Export model\n"
   ]
  },
  {
   "cell_type": "code",
   "execution_count": 62,
   "metadata": {
    "colab": {},
    "colab_type": "code",
    "id": "pxA9Y8wzJl9K"
   },
   "outputs": [],
   "source": [
    "import pickle"
   ]
  },
  {
   "cell_type": "code",
   "execution_count": 61,
   "metadata": {
    "colab": {},
    "colab_type": "code",
    "id": "34xi64sgHTko"
   },
   "outputs": [],
   "source": [
    "with open('sentiment_classifier.pkl', 'wb') as f:\n",
    "    pickle.dump(classifier, f)"
   ]
  },
  {
   "cell_type": "markdown",
   "metadata": {
    "colab_type": "text",
    "id": "GeqYgFDcJBmJ"
   },
   "source": [
    "## Reloading model"
   ]
  },
  {
   "cell_type": "code",
   "execution_count": 63,
   "metadata": {
    "colab": {},
    "colab_type": "code",
    "id": "BIwpEmVLJApV"
   },
   "outputs": [],
   "source": [
    "with open('sentiment_classifier.pkl', 'rb') as f:\n",
    "    my_sentiment_classifier = pickle.load(f)"
   ]
  },
  {
   "cell_type": "code",
   "execution_count": 101,
   "metadata": {
    "colab": {
     "base_uri": "https://localhost:8080/",
     "height": 69
    },
    "colab_type": "code",
    "id": "63MHiSiEKERz",
    "outputId": "ddd7ce77-ecaf-4242-e861-87e969cdf664"
   },
   "outputs": [
    {
     "data": {
      "text/plain": [
       "Text         thank another solid plan return\n",
       "Sentiment                                  1\n",
       "Name: 1994, dtype: object"
      ]
     },
     "execution_count": 101,
     "metadata": {
      "tags": []
     },
     "output_type": "execute_result"
    }
   ],
   "source": [
    "test.iloc[4]"
   ]
  },
  {
   "cell_type": "code",
   "execution_count": 102,
   "metadata": {
    "colab": {
     "base_uri": "https://localhost:8080/",
     "height": 34
    },
    "colab_type": "code",
    "id": "kLS4KF6qLD6f",
    "outputId": "90d9398e-31d6-4354-c786-62d902c72ed0"
   },
   "outputs": [
    {
     "data": {
      "text/plain": [
       "array([1])"
      ]
     },
     "execution_count": 102,
     "metadata": {
      "tags": []
     },
     "output_type": "execute_result"
    }
   ],
   "source": [
    "my_sentiment_classifier.predict(X_test[4])"
   ]
  }
 ],
 "metadata": {
  "colab": {
   "name": "modelling",
   "provenance": []
  },
  "kernelspec": {
   "display_name": "Python 3",
   "language": "python",
   "name": "python3"
  },
  "language_info": {
   "codemirror_mode": {
    "name": "ipython",
    "version": 3
   },
   "file_extension": ".py",
   "mimetype": "text/x-python",
   "name": "python",
   "nbconvert_exporter": "python",
   "pygments_lexer": "ipython3",
   "version": "3.8.3"
  }
 },
 "nbformat": 4,
 "nbformat_minor": 1
}
