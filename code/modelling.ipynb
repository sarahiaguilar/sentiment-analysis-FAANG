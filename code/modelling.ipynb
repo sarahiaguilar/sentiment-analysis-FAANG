{
  "nbformat": 4,
  "nbformat_minor": 0,
  "metadata": {
    "colab": {
      "name": "modelling",
      "provenance": []
    },
    "kernelspec": {
      "name": "python3",
      "display_name": "Python 3"
    }
  },
  "cells": [
    {
      "cell_type": "markdown",
      "metadata": {
        "id": "28NDEa4FGuzB",
        "colab_type": "text"
      },
      "source": [
        "## Load data and split train and test set"
      ]
    },
    {
      "cell_type": "code",
      "metadata": {
        "id": "ylWK-tRk60PW",
        "colab_type": "code",
        "colab": {
          "base_uri": "https://localhost:8080/",
          "height": 52
        },
        "outputId": "9f898355-6a75-4307-c180-6851982d0447"
      },
      "source": [
        "import pandas as pd"
      ],
      "execution_count": 57,
      "outputs": [
        {
          "output_type": "stream",
          "text": [
            "[nltk_data] Downloading package punkt to /root/nltk_data...\n",
            "[nltk_data]   Package punkt is already up-to-date!\n"
          ],
          "name": "stdout"
        }
      ]
    },
    {
      "cell_type": "code",
      "metadata": {
        "id": "nZdgOY6e7AcG",
        "colab_type": "code",
        "colab": {
          "base_uri": "https://localhost:8080/",
          "height": 34
        },
        "outputId": "d9936b1d-7bb2-4181-c493-662c37f9c379"
      },
      "source": [
        "df = pd.read_csv('./clean_data.csv')\n",
        "df.shape"
      ],
      "execution_count": 24,
      "outputs": [
        {
          "output_type": "execute_result",
          "data": {
            "text/plain": [
              "(15863, 2)"
            ]
          },
          "metadata": {
            "tags": []
          },
          "execution_count": 24
        }
      ]
    },
    {
      "cell_type": "code",
      "metadata": {
        "id": "grz29iAE7AfB",
        "colab_type": "code",
        "colab": {
          "base_uri": "https://localhost:8080/",
          "height": 52
        },
        "outputId": "1f035354-224f-47fa-d6db-c0cb7ec6ecab"
      },
      "source": [
        "train, test = train_test_split(df, test_size = 0.2)\n",
        "print(train.shape)\n",
        "print(test.shape)"
      ],
      "execution_count": 25,
      "outputs": [
        {
          "output_type": "stream",
          "text": [
            "(12690, 2)\n",
            "(3173, 2)\n"
          ],
          "name": "stdout"
        }
      ]
    },
    {
      "cell_type": "markdown",
      "metadata": {
        "id": "pGefXqC4G2oS",
        "colab_type": "text"
      },
      "source": [
        "## Transform input"
      ]
    },
    {
      "cell_type": "code",
      "metadata": {
        "id": "wtA2lvcwJyX6",
        "colab_type": "code",
        "colab": {}
      },
      "source": [
        "from sklearn.model_selection import train_test_split\n",
        "from collections import Counter\n",
        "import nltk\n",
        "nltk.download('punkt')\n",
        "from sklearn.feature_extraction import DictVectorizer\n",
        "from sklearn.preprocessing import LabelEncoder"
      ],
      "execution_count": null,
      "outputs": []
    },
    {
      "cell_type": "code",
      "metadata": {
        "id": "pWF6o4md7AiC",
        "colab_type": "code",
        "colab": {}
      },
      "source": [
        "BOW_train = []\n",
        "\n",
        "for text in train['Text']:\n",
        "  tokens = nltk.word_tokenize(text)\n",
        "  BOW_train.append(Counter(tokens))"
      ],
      "execution_count": 47,
      "outputs": []
    },
    {
      "cell_type": "code",
      "metadata": {
        "id": "h8vGYCvPBYIm",
        "colab_type": "code",
        "colab": {}
      },
      "source": [
        "input_encoder = DictVectorizer()\n",
        "X = input_encoder.fit_transform(BOW_train)"
      ],
      "execution_count": 48,
      "outputs": []
    },
    {
      "cell_type": "code",
      "metadata": {
        "id": "VNnWItbJA6Kl",
        "colab_type": "code",
        "colab": {}
      },
      "source": [
        "output_encoder = LabelEncoder()\n",
        "y = output_encoder.fit_transform(train['Sentiment'])"
      ],
      "execution_count": 49,
      "outputs": []
    },
    {
      "cell_type": "code",
      "metadata": {
        "id": "Y0qbSLgOB7Bc",
        "colab_type": "code",
        "colab": {}
      },
      "source": [
        "BOW_test = []\n",
        "\n",
        "for text in test['Text']:\n",
        "  tokens = nltk.word_tokenize(text)\n",
        "  BOW_test.append(Counter(tokens))"
      ],
      "execution_count": 51,
      "outputs": []
    },
    {
      "cell_type": "code",
      "metadata": {
        "id": "qzguxzbdCOhG",
        "colab_type": "code",
        "colab": {}
      },
      "source": [
        "X_test = input_encoder.transform(BOW_test)"
      ],
      "execution_count": 54,
      "outputs": []
    },
    {
      "cell_type": "code",
      "metadata": {
        "id": "eJ-pG5GCCOS2",
        "colab_type": "code",
        "colab": {}
      },
      "source": [
        "y_test = output_encoder.transform(test['Sentiment'])"
      ],
      "execution_count": 55,
      "outputs": []
    },
    {
      "cell_type": "markdown",
      "metadata": {
        "id": "B72wfXOaHAGe",
        "colab_type": "text"
      },
      "source": [
        "## Build multinomial NB model"
      ]
    },
    {
      "cell_type": "code",
      "metadata": {
        "id": "COTrZNsvJ1FQ",
        "colab_type": "code",
        "colab": {}
      },
      "source": [
        "from sklearn.naive_bayes import MultinomialNB"
      ],
      "execution_count": null,
      "outputs": []
    },
    {
      "cell_type": "code",
      "metadata": {
        "id": "OXb94hifBlCH",
        "colab_type": "code",
        "colab": {
          "base_uri": "https://localhost:8080/",
          "height": 34
        },
        "outputId": "725f95ab-6c10-4e7e-e4cf-c26bc25350bc"
      },
      "source": [
        "classifier = MultinomialNB()\n",
        "classifier.fit(X, y) "
      ],
      "execution_count": 50,
      "outputs": [
        {
          "output_type": "execute_result",
          "data": {
            "text/plain": [
              "MultinomialNB(alpha=1.0, class_prior=None, fit_prior=True)"
            ]
          },
          "metadata": {
            "tags": []
          },
          "execution_count": 50
        }
      ]
    },
    {
      "cell_type": "markdown",
      "metadata": {
        "id": "1BdY_3DuHHTM",
        "colab_type": "text"
      },
      "source": [
        "## Test!"
      ]
    },
    {
      "cell_type": "code",
      "metadata": {
        "id": "cPQwIoYtJ3Xr",
        "colab_type": "code",
        "colab": {}
      },
      "source": [
        "from sklearn.metrics import accuracy_score, precision_score, recall_score, f1_score"
      ],
      "execution_count": null,
      "outputs": []
    },
    {
      "cell_type": "code",
      "metadata": {
        "id": "A2SWbKwhCeKI",
        "colab_type": "code",
        "colab": {}
      },
      "source": [
        "y_pred = classifier.predict(X_test)"
      ],
      "execution_count": 56,
      "outputs": []
    },
    {
      "cell_type": "code",
      "metadata": {
        "id": "g0ji9XHsGeBG",
        "colab_type": "code",
        "colab": {
          "base_uri": "https://localhost:8080/",
          "height": 86
        },
        "outputId": "602dfeb2-6a27-43f7-ea59-15374293e673"
      },
      "source": [
        "print(\"Exactitud:\", accuracy_score(y_test, y_pred))\n",
        "print(\"Precision:\", precision_score(y_test, y_pred, average = \"macro\"))\n",
        "print(\"Exhaustividad:\", recall_score(y_test, y_pred, average = \"macro\"))\n",
        "print(\"F1 score:\", f1_score(y_test, y_pred, average = \"macro\"))"
      ],
      "execution_count": 59,
      "outputs": [
        {
          "output_type": "stream",
          "text": [
            "Exactitud: 0.7607942010715412\n",
            "Precision: 0.7655589794260738\n",
            "Exhaustividad: 0.7535353535353535\n",
            "F1 score: 0.7551439896173138\n"
          ],
          "name": "stdout"
        }
      ]
    },
    {
      "cell_type": "markdown",
      "metadata": {
        "id": "V-ex5eeXH0aI",
        "colab_type": "text"
      },
      "source": [
        "## Export model\n"
      ]
    },
    {
      "cell_type": "code",
      "metadata": {
        "id": "pxA9Y8wzJl9K",
        "colab_type": "code",
        "colab": {}
      },
      "source": [
        "import pickle"
      ],
      "execution_count": 62,
      "outputs": []
    },
    {
      "cell_type": "code",
      "metadata": {
        "id": "34xi64sgHTko",
        "colab_type": "code",
        "colab": {}
      },
      "source": [
        "with open('sentiment_classifier.pkl', 'wb') as f:\n",
        "    pickle.dump(classifier, f)"
      ],
      "execution_count": 61,
      "outputs": []
    },
    {
      "cell_type": "markdown",
      "metadata": {
        "id": "GeqYgFDcJBmJ",
        "colab_type": "text"
      },
      "source": [
        "## Reloading model"
      ]
    },
    {
      "cell_type": "code",
      "metadata": {
        "id": "BIwpEmVLJApV",
        "colab_type": "code",
        "colab": {}
      },
      "source": [
        "with open('sentiment_classifier.pkl', 'rb') as f:\n",
        "    my_sentiment_classifier = pickle.load(f)"
      ],
      "execution_count": 63,
      "outputs": []
    },
    {
      "cell_type": "code",
      "metadata": {
        "id": "63MHiSiEKERz",
        "colab_type": "code",
        "colab": {
          "base_uri": "https://localhost:8080/",
          "height": 69
        },
        "outputId": "ddd7ce77-ecaf-4242-e861-87e969cdf664"
      },
      "source": [
        "test.iloc[4]"
      ],
      "execution_count": 101,
      "outputs": [
        {
          "output_type": "execute_result",
          "data": {
            "text/plain": [
              "Text         thank another solid plan return\n",
              "Sentiment                                  1\n",
              "Name: 1994, dtype: object"
            ]
          },
          "metadata": {
            "tags": []
          },
          "execution_count": 101
        }
      ]
    },
    {
      "cell_type": "code",
      "metadata": {
        "id": "kLS4KF6qLD6f",
        "colab_type": "code",
        "colab": {
          "base_uri": "https://localhost:8080/",
          "height": 34
        },
        "outputId": "90d9398e-31d6-4354-c786-62d902c72ed0"
      },
      "source": [
        "my_sentiment_classifier.predict(X_test[4])"
      ],
      "execution_count": 102,
      "outputs": [
        {
          "output_type": "execute_result",
          "data": {
            "text/plain": [
              "array([1])"
            ]
          },
          "metadata": {
            "tags": []
          },
          "execution_count": 102
        }
      ]
    }
  ]
}